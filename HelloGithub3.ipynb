{
  "nbformat": 4,
  "nbformat_minor": 0,
  "metadata": {
    "colab": {
      "name": "HelloGithub3.ipynb",
      "provenance": [],
      "authorship_tag": "ABX9TyOrcvGxU3n4lSgp7et3sQD+"
    },
    "kernelspec": {
      "name": "python3",
      "display_name": "Python 3"
    },
    "language_info": {
      "name": "python"
    }
  },
  "cells": [
    {
      "cell_type": "code",
      "execution_count": null,
      "metadata": {
        "colab": {
          "base_uri": "https://localhost:8080/"
        },
        "id": "RyUlCAiSPNWX",
        "outputId": "bb88618c-71d0-46c5-c25c-03163ec64de5"
      },
      "outputs": [
        {
          "output_type": "stream",
          "name": "stdout",
          "text": [
            "Hello Github2\n"
          ]
        }
      ],
      "source": [
        "print ('Hello Github2')"
      ]
    }
  ]
}